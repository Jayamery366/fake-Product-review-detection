{
  "nbformat": 4,
  "nbformat_minor": 0,
  "metadata": {
    "colab": {
      "provenance": []
    },
    "kernelspec": {
      "name": "python3",
      "display_name": "Python 3"
    },
    "language_info": {
      "name": "python"
    }
  },
  "cells": [
    {
      "cell_type": "code",
      "source": [
        "import pandas as pd\n",
        "import numpy as np\n",
        "import re\n",
        "import nltk\n",
        "from nltk.corpus import stopwords\n",
        "from nltk.tokenize import word_tokenize\n",
        "from sklearn.model_selection import train_test_split\n",
        "from sklearn.feature_extraction.text import TfidfVectorizer\n",
        "from sklearn.linear_model import LogisticRegression\n",
        "from sklearn.metrics import accuracy_score, classification_report\n",
        "df = pd.read_csv(\"/content/drive/MyDrive/fake reviews dataset.csv\")\n",
        "print(\"Columns in dataset:\", df.columns)\n",
        "text_column = 'text_' if 'text_' in df.columns else 'text'\n",
        "if text_column not in df.columns:\n",
        "    raise KeyError(f\"Expected column '{text_column}' not found in dataset\")\n",
        "df = df.dropna(subset=[text_column, 'label'])\n",
        "df[text_column] = df[text_column].astype(str)\n",
        "nltk.download('punkt')\n",
        "nltk.download('stopwords')\n",
        "nltk.download('omw-1.4')\n",
        "nltk.download('wordnet')\n",
        "def preprocess_text(text):\n",
        "    text = text.lower()\n",
        "    text = re.sub(r'[^a-zA-Z]', ' ', text)\n",
        "    tokens = word_tokenize(text)\n",
        "    stop_words = set(stopwords.words('english'))\n",
        "    tokens = [word for word in tokens if word not in stop_words]\n",
        "    return ' '.join(tokens)\n",
        "try:\n",
        "    df['processed_text'] = df[text_column].apply(preprocess_text)\n",
        "except LookupError:\n",
        "    nltk.download('punkt_tab')\n",
        "    df['processed_text'] = df[text_column].apply(preprocess_text)\n",
        "vectorizer = TfidfVectorizer(max_features=5000)\n",
        "X = vectorizer.fit_transform(df['processed_text'])\n",
        "y = df['label'].astype(str)\n",
        "X_train, X_test, y_train, y_test = train_test_split(X, y, test_size=0.13, random_state=42, stratify=y)\n",
        "model = LogisticRegression()\n",
        "model.fit(X_train, y_train)\n",
        "y_pred = model.predict(X_test)\n",
        "print(\"Accuracy:\", accuracy_score(y_test, y_pred))\n",
        "print(classification_report(y_test, y_pred))\n"
      ],
      "metadata": {
        "colab": {
          "base_uri": "https://localhost:8080/"
        },
        "id": "esm16d8nh1pa",
        "outputId": "739e5140-8657-4851-faa8-44c251a0b03b"
      },
      "execution_count": null,
      "outputs": [
        {
          "output_type": "stream",
          "name": "stdout",
          "text": [
            "Columns in dataset: Index(['category', 'rating', 'label', 'text_'], dtype='object')\n"
          ]
        },
        {
          "output_type": "stream",
          "name": "stderr",
          "text": [
            "[nltk_data] Downloading package punkt to /root/nltk_data...\n",
            "[nltk_data]   Unzipping tokenizers/punkt.zip.\n",
            "[nltk_data] Downloading package stopwords to /root/nltk_data...\n",
            "[nltk_data]   Unzipping corpora/stopwords.zip.\n",
            "[nltk_data] Downloading package omw-1.4 to /root/nltk_data...\n",
            "[nltk_data] Downloading package wordnet to /root/nltk_data...\n",
            "[nltk_data] Downloading package punkt_tab to /root/nltk_data...\n",
            "[nltk_data]   Unzipping tokenizers/punkt_tab.zip.\n"
          ]
        },
        {
          "output_type": "stream",
          "name": "stdout",
          "text": [
            "Accuracy: 0.8835837930378543\n",
            "              precision    recall  f1-score   support\n",
            "\n",
            "          CG       0.89      0.87      0.88      2629\n",
            "          OR       0.88      0.89      0.88      2628\n",
            "\n",
            "    accuracy                           0.88      5257\n",
            "   macro avg       0.88      0.88      0.88      5257\n",
            "weighted avg       0.88      0.88      0.88      5257\n",
            "\n"
          ]
        }
      ]
    }
  ]
}